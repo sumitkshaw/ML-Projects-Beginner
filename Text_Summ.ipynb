{
  "nbformat": 4,
  "nbformat_minor": 0,
  "metadata": {
    "colab": {
      "provenance": [],
      "authorship_tag": "ABX9TyPov2ntv9epFL9jx+MfPVx6",
      "include_colab_link": true
    },
    "kernelspec": {
      "name": "python3",
      "display_name": "Python 3"
    },
    "language_info": {
      "name": "python"
    }
  },
  "cells": [
    {
      "cell_type": "markdown",
      "metadata": {
        "id": "view-in-github",
        "colab_type": "text"
      },
      "source": [
        "<a href=\"https://colab.research.google.com/github/sumitkshaw/ML-Projects-Beginner/blob/main/Text_Summ.ipynb\" target=\"_parent\"><img src=\"https://colab.research.google.com/assets/colab-badge.svg\" alt=\"Open In Colab\"/></a>"
      ]
    },
    {
      "cell_type": "code",
      "execution_count": 2,
      "metadata": {
        "id": "1xfnokZMvKrs"
      },
      "outputs": [],
      "source": [
        "import nltk\n",
        "import string\n",
        "from heapq import nlargest"
      ]
    },
    {
      "cell_type": "code",
      "source": [
        "text = \"\"\" World War I[j] (alternatively the First World War or the Great War) (28 July 1914 – 11 November 1918) was a global conflict between two coalitions: the Allies (or Entente) and the Central Powers. Fighting took place mainly in Europe and the Middle East, as well as parts of Africa and the Asia-Pacific, and was characterised by trench warfare and the use of artillery, machine guns, and chemical weapons (gas). World War I was one of the deadliest conflicts in history, resulting in an estimated 9 million military dead and 23 million wounded, plus up to 8 million civilian deaths from causes including genocide. The movement of large numbers of troops and civilians was a major factor in spreading the Spanish flu pandemic.\n",
        "\n",
        "The causes of World War I included the rise of Germany and decline of the Ottoman Empire, which disturbed the balance of power in place in Europe for most of the 19th century, as well as increased economic competition between nations triggered by new waves of industrialisation and imperialism. Growing tensions between the great powers and in the Balkans reached a breaking point on 28 June 1914, when a Bosnian Serb named Gavrilo Princip assassinated Archduke Franz Ferdinand, heir to the Austro-Hungarian throne. Austria-Hungary held Serbia responsible, and declared war on 28 July. Russia mobilised in Serbia's defence, and by 4 August, Germany, Russia, France, and the United Kingdom were drawn into the war, with the Ottomans joining in November of the same year. Germany's strategy in 1914 was to quickly defeat France, then to transfer its forces to the Russian front. However, this failed, and by the end of the year the Western Front consisted of a continuous line of trenches stretching from the English Channel to Switzerland. The Eastern Front was more dynamic, but neither side could gain a decisive advantage, despite costly offensives. As the fighting expanded to more fronts, Italy, Bulgaria, Romania, Greece and others joined in from 1915 onward.\n",
        "\n",
        "In April 1917, the United States entered the war on the Allied side following Germany's resumption of unrestricted submarine warfare against Atlantic shipping. Later that year, the Bolsheviks seized power in the Russian October Revolution, after which Soviet Russia signed an armistice with the Central Powers in December, followed by a separate peace in March 1918. That month, Germany launched an offensive in the west, which despite initial successes left the German Army exhausted and demoralised. A successful Allied counter-offensive from August 1918 caused a collapse of the German front line. By early November, Bulgaria, the Ottoman Empire and Austria-Hungary had each signed armistices with the Allies, leaving Germany isolated. Facing a revolution at home, Kaiser Wilhelm II abdicated on 9 November, and the war ended with the Armistice of 11 November 1918.\n",
        "\n",
        "The Paris Peace Conference of 1919–1920 imposed various settlements on the defeated powers, most notably the Treaty of Versailles, by which Germany lost significant territories, was disarmed, and was required to pay large sums of war reparations to the Allies. The dissolution of the Russian, German, Austro-Hungarian, and Ottoman Empires redrew national boundaries and resulted in the creation of new independent states, including Poland, Finland, the Baltic states, Czechoslovakia, and Yugoslavia. The League of Nations was established to maintain world peace, but its failure to manage instability during the interwar period contributed to the outbreak of World War II in 1939.\n",
        "\n",
        "Names\n",
        "The first recorded use of the term First World War was in September 1914 by German biologist and philosopher Ernst Haeckel who stated, \"There is no doubt that the course and character of the feared 'European War' ... will become the first world war in the full sense of the word.\"[1] It was later used as a title for his 1920 memoirs by Lt-Col. Charles à Court Repington.[2]\n",
        "\n",
        "Before World War II, the events of 1914–1918 were generally known as the Great War or simply the World War.[3] In August 1914, the magazine The Independent wrote \"This is the Great War. It names itself\".[4] In October 1914, the Canadian magazine Maclean's similarly wrote, \"Some wars name themselves. This is the Great War.\"[5] Contemporary Europeans also referred to it as \"the war to end war\" and it was also described as \"the war to end all wars\" due to their perception of its unparalleled scale, devastation, and loss of life.[6]\n",
        " \"\"\""
      ],
      "metadata": {
        "id": "48BCkEitvVKl"
      },
      "execution_count": 3,
      "outputs": []
    },
    {
      "cell_type": "code",
      "source": [
        "if text.count(\". \")>20:\n",
        "  length = int(round(text.count(\". \")/10, 0))\n",
        "else:\n",
        "  length=1\n",
        "\n",
        "nopuch = [char for char in text if char not in string.punctuation]\n",
        "nopuch = \"\".join(nopuch)"
      ],
      "metadata": {
        "id": "8agJBKM_voob"
      },
      "execution_count": 4,
      "outputs": []
    },
    {
      "cell_type": "code",
      "source": [
        "import nltk\n",
        "nltk.download('stopwords')\n",
        "processed_text = [word for word in nopuch.split() if word.lower() not in nltk.corpus.stopwords.words('english')]"
      ],
      "metadata": {
        "colab": {
          "base_uri": "https://localhost:8080/"
        },
        "id": "2VFpKsX_wKw2",
        "outputId": "dce71b91-2c27-4401-a42f-1dc24a296c23"
      },
      "execution_count": 5,
      "outputs": [
        {
          "output_type": "stream",
          "name": "stderr",
          "text": [
            "[nltk_data] Downloading package stopwords to /root/nltk_data...\n",
            "[nltk_data]   Unzipping corpora/stopwords.zip.\n"
          ]
        }
      ]
    },
    {
      "cell_type": "code",
      "source": [
        "word_freq = {}\n",
        "for word in processed_text:\n",
        "  if word not in word_freq:\n",
        "    word_freq[word] =1\n",
        "  else:\n",
        "    word_freq[word] = word_freq[word] +1"
      ],
      "metadata": {
        "id": "M42kfLj4wmA2"
      },
      "execution_count": 6,
      "outputs": []
    },
    {
      "cell_type": "code",
      "source": [
        "max_freq = max(word_freq.values())\n",
        "for word in word_freq.keys():\n",
        "  word_freq[word] = (word_freq[word]/max_freq)"
      ],
      "metadata": {
        "id": "XRgc-LIoNMAh"
      },
      "execution_count": 7,
      "outputs": []
    },
    {
      "cell_type": "code",
      "source": [
        "import nltk\n",
        "nltk.download('punkt')\n",
        "sent_list = nltk.sent_tokenize(text)\n",
        "sent_score = {}\n",
        "for sent in sent_list:\n",
        "  for word in nltk.word_tokenize(sent.lower()):\n",
        "    if word in word_freq.keys():\n",
        "      if sent not in sent_score.keys():\n",
        "        sent_score[sent] = word_freq[word]\n",
        "      else:\n",
        "        sent_score[sent] = sent_score[sent] + word_freq[word]\n",
        "\n",
        "summary_sents = nlargest(length, sent_score, key=sent_score.get)\n",
        "summary = \" \".join(summary_sents)\n",
        "print(summary)"
      ],
      "metadata": {
        "colab": {
          "base_uri": "https://localhost:8080/"
        },
        "id": "VJmaADUrOwor",
        "outputId": "cbcea568-069a-43b5-d177-d1e88b9952af"
      },
      "execution_count": 9,
      "outputs": [
        {
          "output_type": "stream",
          "name": "stderr",
          "text": [
            "[nltk_data] Downloading package punkt to /root/nltk_data...\n",
            "[nltk_data]   Unzipping tokenizers/punkt.zip.\n"
          ]
        },
        {
          "output_type": "stream",
          "name": "stdout",
          "text": [
            "Names\n",
            "The first recorded use of the term First World War was in September 1914 by German biologist and philosopher Ernst Haeckel who stated, \"There is no doubt that the course and character of the feared 'European War' ... will become the first world war in the full sense of the word.  World War I[j] (alternatively the First World War or the Great War) (28 July 1914 – 11 November 1918) was a global conflict between two coalitions: the Allies (or Entente) and the Central Powers.\n"
          ]
        }
      ]
    }
  ]
}